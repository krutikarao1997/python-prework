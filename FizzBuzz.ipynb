{
 "cells": [
  {
   "cell_type": "markdown",
   "id": "1ef0abf9-76ea-4324-b162-dca1f6dd2492",
   "metadata": {},
   "source": [
    "# FizzBuzz Exercise\n",
    "\n",
    "**Description**:  \n",
    "- This notebook solves the classic FizzBuzz problem.\n",
    "- When you run the code, you'll be prompted for an integer \\(n\\).  \n",
    "- For each number from 1 to n:\n",
    "  - If the number is divisible by 3 and 5, print \"fizzbuzz\".\n",
    "  - If the number is divisible by 3, print \"fizz\".\n",
    "  - If the number is divisible by 5, print \"buzz\".\n",
    "  - Otherwise, print the number.\n"
   ]
  },
  {
   "cell_type": "code",
   "execution_count": 2,
   "id": "23860897-962c-454d-a68e-ca92544193b7",
   "metadata": {},
   "outputs": [
    {
     "name": "stdin",
     "output_type": "stream",
     "text": [
      "2 30\n"
     ]
    },
    {
     "name": "stdout",
     "output_type": "stream",
     "text": [
      "1\n",
      "2\n",
      "fizz\n",
      "4\n",
      "buzz\n",
      "fizz\n",
      "7\n",
      "8\n",
      "fizz\n",
      "buzz\n",
      "11\n",
      "fizz\n",
      "13\n",
      "14\n",
      "fizzbuzz\n",
      "16\n",
      "17\n",
      "fizz\n",
      "19\n",
      "buzz\n",
      "fizz\n",
      "22\n",
      "23\n",
      "fizz\n",
      "buzz\n",
      "26\n",
      "fizz\n",
      "28\n",
      "29\n",
      "fizzbuzz\n"
     ]
    }
   ],
   "source": [
    "n = int(input(\"2\"))\n",
    "\n",
    "# Step 2: Loop from 1 to n\n",
    "for num in range(1, n + 1):\n",
    "    \n",
    "    # Step 3: Check divisibility\n",
    "    if (num % 3 == 0) and (num % 5 == 0):\n",
    "        print(\"fizzbuzz\")\n",
    "    elif num % 3 == 0:\n",
    "        print(\"fizz\")\n",
    "    elif num % 5 == 0:\n",
    "        print(\"buzz\")\n",
    "    else:\n",
    "        print(num)"
   ]
  },
  {
   "cell_type": "markdown",
   "id": "d43e050a-dbb1-4f52-a005-aedab2b7f2d1",
   "metadata": {},
   "source": [
    "## Code Components\n",
    "\n",
    "1. **Variables**  \n",
    "   - *Definition*: Named references to a stored value in your program.  \n",
    "   - *Example in code*: `n` and `num` are variables. `n` stores the user’s input, and `num` iterates from 1 to `n`.\n",
    "\n",
    "2. **Loop**  \n",
    "   - *Definition*: A control structure that repeats code a set number of times or until a condition is met.  \n",
    "   - *Example in code*: `for num in range(1, n + 1):` loops through each integer from 1 to `n`.\n",
    "\n",
    "3. **Conditional Statements (if/elif/else)**  \n",
    "   - *Definition*: Run different blocks of code based on whether a condition is true or false.  \n",
    "   - *Example in code*: The `if`, `elif`, and `else` statements check if the number is divisible by 3, 5, or both.\n",
    "\n",
    "4. **Built-in Functions**  \n",
    "   - *Definition*: Predefined functions provided by Python to perform common tasks.  \n",
    "   - *Example in code*:  \n",
    "       - `input()` prompts the user and returns the entered value.  \n",
    "       - `print()` outputs text or variables to the screen.  \n",
    "       - `int()` converts the string input to an integer type.\n",
    "       - "
   ]
  }
 ],
 "metadata": {
  "kernelspec": {
   "display_name": "Python 3 (ipykernel)",
   "language": "python",
   "name": "python3"
  },
  "language_info": {
   "codemirror_mode": {
    "name": "ipython",
    "version": 3
   },
   "file_extension": ".py",
   "mimetype": "text/x-python",
   "name": "python",
   "nbconvert_exporter": "python",
   "pygments_lexer": "ipython3",
   "version": "3.13.2"
  }
 },
 "nbformat": 4,
 "nbformat_minor": 5
}
